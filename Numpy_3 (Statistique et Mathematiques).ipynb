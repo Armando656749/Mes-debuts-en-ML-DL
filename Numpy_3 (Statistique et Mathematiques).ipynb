{
 "cells": [
  {
   "cell_type": "code",
   "execution_count": 1,
   "id": "61d7cd4a",
   "metadata": {},
   "outputs": [],
   "source": [
    "import numpy as np"
   ]
  },
  {
   "cell_type": "code",
   "execution_count": 2,
   "id": "7a783798",
   "metadata": {},
   "outputs": [
    {
     "data": {
      "text/plain": [
       "array([[5, 0, 3],\n",
       "       [3, 7, 9]])"
      ]
     },
     "execution_count": 2,
     "metadata": {},
     "output_type": "execute_result"
    }
   ],
   "source": [
    "np.random.seed(0)\n",
    "A = np.random.randint(0,10,[2,3])\n",
    "A"
   ]
  },
  {
   "cell_type": "markdown",
   "id": "515923c2",
   "metadata": {},
   "source": [
    "# Methodes ndarray"
   ]
  },
  {
   "cell_type": "code",
   "execution_count": 3,
   "id": "ef5ddc66",
   "metadata": {},
   "outputs": [
    {
     "data": {
      "text/plain": [
       "array([ 8,  7, 12])"
      ]
     },
     "execution_count": 3,
     "metadata": {},
     "output_type": "execute_result"
    }
   ],
   "source": [
    "A.sum(axis=0)"
   ]
  },
  {
   "cell_type": "code",
   "execution_count": 4,
   "id": "45e0ed01",
   "metadata": {},
   "outputs": [],
   "source": [
    "# A.prod(), A.cumsum(),A.argmin(), A.argmax()"
   ]
  },
  {
   "cell_type": "markdown",
   "id": "59c991f7",
   "metadata": {},
   "source": [
    "# Statistique"
   ]
  },
  {
   "cell_type": "code",
   "execution_count": 5,
   "id": "774eae7f",
   "metadata": {},
   "outputs": [
    {
     "data": {
      "text/plain": [
       "8.583333333333334"
      ]
     },
     "execution_count": 5,
     "metadata": {},
     "output_type": "execute_result"
    }
   ],
   "source": [
    "A.mean() # moyenne\n",
    "A.std() # ecart type\n",
    "A.var() # variance"
   ]
  },
  {
   "cell_type": "code",
   "execution_count": 6,
   "id": "935f2894",
   "metadata": {},
   "outputs": [
    {
     "data": {
      "text/plain": [
       "array([[ 1.        , -0.56362148],\n",
       "       [-0.56362148,  1.        ]])"
      ]
     },
     "execution_count": 6,
     "metadata": {},
     "output_type": "execute_result"
    }
   ],
   "source": [
    "# Correleation coefficient: permet de tracer une matrice de correlation pour la matrice A\n",
    "np.corrcoef(A)"
   ]
  },
  {
   "cell_type": "code",
   "execution_count": 7,
   "id": "65314184",
   "metadata": {},
   "outputs": [
    {
     "data": {
      "text/plain": [
       "(array([0, 3, 5, 7, 9]), array([1, 2, 1, 1, 1], dtype=int64))"
      ]
     },
     "execution_count": 7,
     "metadata": {},
     "output_type": "execute_result"
    }
   ],
   "source": [
    "# En machine learning, on aime souvent connaitre combien de fois un element se repete dans un tableau\n",
    "np.unique(A,return_counts=True)\n",
    "# Sa c'est une fonction tres utile; elle ressort deux tableaux: le premier contient tous les elements de la matrice et\n",
    "# le deuxieme contient le nombre de fois que chaque element se repetre dans la matrice"
   ]
  },
  {
   "cell_type": "code",
   "execution_count": 8,
   "id": "b3207ed4",
   "metadata": {},
   "outputs": [],
   "source": [
    "B = np.random.randint(0,10,[5,5])\n",
    "values, counts = np.unique(B, return_counts=True)"
   ]
  },
  {
   "cell_type": "code",
   "execution_count": 9,
   "id": "d1751e59",
   "metadata": {},
   "outputs": [
    {
     "data": {
      "text/plain": [
       "array([0, 1, 2, 4, 6, 9, 3, 5, 7, 8], dtype=int64)"
      ]
     },
     "execution_count": 9,
     "metadata": {},
     "output_type": "execute_result"
    }
   ],
   "source": [
    "counts.argsort()"
   ]
  },
  {
   "cell_type": "code",
   "execution_count": 10,
   "id": "f1c15857",
   "metadata": {},
   "outputs": [
    {
     "data": {
      "text/plain": [
       "array([0, 1, 2, 4, 6, 9, 3, 5, 7, 8])"
      ]
     },
     "execution_count": 10,
     "metadata": {},
     "output_type": "execute_result"
    }
   ],
   "source": [
    "values[counts.argsort()]"
   ]
  },
  {
   "cell_type": "code",
   "execution_count": 12,
   "id": "19e7f011",
   "metadata": {},
   "outputs": [
    {
     "name": "stdout",
     "output_type": "stream",
     "text": [
      "valeur 0 apparait 2\n",
      "valeur 1 apparait 2\n",
      "valeur 2 apparait 2\n",
      "valeur 4 apparait 2\n",
      "valeur 6 apparait 2\n",
      "valeur 9 apparait 2\n",
      "valeur 3 apparait 3\n",
      "valeur 5 apparait 3\n",
      "valeur 7 apparait 3\n",
      "valeur 8 apparait 4\n"
     ]
    }
   ],
   "source": [
    "for i,j in zip(values[counts.argsort()], counts[counts.argsort()]):\n",
    "    print(f'valeur {i} apparait {j}')"
   ]
  },
  {
   "cell_type": "markdown",
   "id": "6644e6b6",
   "metadata": {},
   "source": [
    "# NaN Corrections"
   ]
  },
  {
   "cell_type": "code",
   "execution_count": 14,
   "id": "8601cfb5",
   "metadata": {},
   "outputs": [
    {
     "data": {
      "text/plain": [
       "array([[ 1.41437719, -0.12405066,         nan,  0.22988654,  0.60489373],\n",
       "       [ 1.62715982,  1.59456053,  0.23043417, -0.06491034, -0.96898025],\n",
       "       [ 0.59124281, -0.7827755 , -0.44423283, -0.34518616, -0.88180055],\n",
       "       [-0.44265324, -0.5409163 , -1.32322737, -0.11279892,  0.90734594],\n",
       "       [ 0.81526991,  0.22909795, -1.02617878,         nan,  1.29269823]])"
      ]
     },
     "execution_count": 14,
     "metadata": {},
     "output_type": "execute_result"
    }
   ],
   "source": [
    "# dans la realite, les dataset se presente sous la forme suivante\n",
    "C = np.random.randn(5,5)\n",
    "C[0,2] = np.nan\n",
    "C[4,3] = np.nan\n",
    "C"
   ]
  },
  {
   "cell_type": "code",
   "execution_count": 15,
   "id": "3473acda",
   "metadata": {},
   "outputs": [
    {
     "data": {
      "text/plain": [
       "array([[False, False,  True, False, False],\n",
       "       [False, False, False, False, False],\n",
       "       [False, False, False, False, False],\n",
       "       [False, False, False, False, False],\n",
       "       [False, False, False,  True, False]])"
      ]
     },
     "execution_count": 15,
     "metadata": {},
     "output_type": "execute_result"
    }
   ],
   "source": [
    "np.isnan(C)"
   ]
  },
  {
   "cell_type": "code",
   "execution_count": 16,
   "id": "a725499b",
   "metadata": {},
   "outputs": [
    {
     "data": {
      "text/plain": [
       "2"
      ]
     },
     "execution_count": 16,
     "metadata": {},
     "output_type": "execute_result"
    }
   ],
   "source": [
    "np.isnan(C).sum()"
   ]
  },
  {
   "cell_type": "code",
   "execution_count": 18,
   "id": "d903a82a",
   "metadata": {},
   "outputs": [
    {
     "data": {
      "text/plain": [
       "0.08"
      ]
     },
     "execution_count": 18,
     "metadata": {},
     "output_type": "execute_result"
    }
   ],
   "source": [
    "np.isnan(C).sum()/C.size"
   ]
  },
  {
   "cell_type": "code",
   "execution_count": 20,
   "id": "c5391f23",
   "metadata": {},
   "outputs": [
    {
     "data": {
      "text/plain": [
       "array([[ 1.41437719, -0.12405066,  0.        ,  0.22988654,  0.60489373],\n",
       "       [ 1.62715982,  1.59456053,  0.23043417, -0.06491034, -0.96898025],\n",
       "       [ 0.59124281, -0.7827755 , -0.44423283, -0.34518616, -0.88180055],\n",
       "       [-0.44265324, -0.5409163 , -1.32322737, -0.11279892,  0.90734594],\n",
       "       [ 0.81526991,  0.22909795, -1.02617878,  0.        ,  1.29269823]])"
      ]
     },
     "execution_count": 20,
     "metadata": {},
     "output_type": "execute_result"
    }
   ],
   "source": [
    "C[np.isnan(C)] = 0\n",
    "C"
   ]
  },
  {
   "cell_type": "markdown",
   "id": "0f42a4dc",
   "metadata": {},
   "source": [
    "# Algebre Lineaire"
   ]
  },
  {
   "cell_type": "code",
   "execution_count": 28,
   "id": "d84fdb61",
   "metadata": {},
   "outputs": [
    {
     "data": {
      "text/plain": [
       "array([[1., 1., 1.],\n",
       "       [1., 1., 1.]])"
      ]
     },
     "execution_count": 28,
     "metadata": {},
     "output_type": "execute_result"
    }
   ],
   "source": [
    "A = np.ones((2,3))\n",
    "B = np.ones((3,2))\n",
    "A"
   ]
  },
  {
   "cell_type": "code",
   "execution_count": 29,
   "id": "d07e98ec",
   "metadata": {},
   "outputs": [
    {
     "data": {
      "text/plain": [
       "array([[1., 1.],\n",
       "       [1., 1.],\n",
       "       [1., 1.]])"
      ]
     },
     "execution_count": 29,
     "metadata": {},
     "output_type": "execute_result"
    }
   ],
   "source": [
    "B"
   ]
  },
  {
   "cell_type": "code",
   "execution_count": 30,
   "id": "4369bb5c",
   "metadata": {},
   "outputs": [
    {
     "data": {
      "text/plain": [
       "(3, 2)"
      ]
     },
     "execution_count": 30,
     "metadata": {},
     "output_type": "execute_result"
    }
   ],
   "source": [
    "(A.T).shape"
   ]
  },
  {
   "cell_type": "code",
   "execution_count": 31,
   "id": "5f069906",
   "metadata": {},
   "outputs": [
    {
     "data": {
      "text/plain": [
       "array([[3., 3.],\n",
       "       [3., 3.]])"
      ]
     },
     "execution_count": 31,
     "metadata": {},
     "output_type": "execute_result"
    }
   ],
   "source": [
    "A.dot(B)"
   ]
  },
  {
   "cell_type": "code",
   "execution_count": 32,
   "id": "47357e1c",
   "metadata": {},
   "outputs": [
    {
     "data": {
      "text/plain": [
       "array([[2., 2., 2.],\n",
       "       [2., 2., 2.],\n",
       "       [2., 2., 2.]])"
      ]
     },
     "execution_count": 32,
     "metadata": {},
     "output_type": "execute_result"
    }
   ],
   "source": [
    "B.dot(A)"
   ]
  },
  {
   "cell_type": "code",
   "execution_count": 34,
   "id": "85908a76",
   "metadata": {},
   "outputs": [
    {
     "data": {
      "text/plain": [
       "array([[3, 5, 9],\n",
       "       [4, 4, 6],\n",
       "       [4, 4, 3]])"
      ]
     },
     "execution_count": 34,
     "metadata": {},
     "output_type": "execute_result"
    }
   ],
   "source": [
    "# Determinant\n",
    "A = np.random.randint(0,10, [3,3])\n",
    "A"
   ]
  },
  {
   "cell_type": "code",
   "execution_count": 35,
   "id": "cec13c72",
   "metadata": {},
   "outputs": [
    {
     "data": {
      "text/plain": [
       "23.999999999999993"
      ]
     },
     "execution_count": 35,
     "metadata": {},
     "output_type": "execute_result"
    }
   ],
   "source": [
    "# Calcul du determinant\n",
    "np.linalg.det(A)"
   ]
  },
  {
   "cell_type": "code",
   "execution_count": 36,
   "id": "6d35a147",
   "metadata": {},
   "outputs": [
    {
     "data": {
      "text/plain": [
       "array([[-0.5       ,  0.875     , -0.25      ],\n",
       "       [ 0.5       , -1.125     ,  0.75      ],\n",
       "       [-0.        ,  0.33333333, -0.33333333]])"
      ]
     },
     "execution_count": 36,
     "metadata": {},
     "output_type": "execute_result"
    }
   ],
   "source": [
    "# Inverse d'une matrice\n",
    "np.linalg.inv(A)"
   ]
  },
  {
   "cell_type": "code",
   "execution_count": 37,
   "id": "35908b46",
   "metadata": {},
   "outputs": [
    {
     "data": {
      "text/plain": [
       "(array([13.58872344, -3.        , -0.58872344]),\n",
       " array([[-6.70561268e-01, -8.32050294e-01,  6.04408531e-01],\n",
       "        [-5.73889829e-01,  1.85511715e-16, -7.73940635e-01],\n",
       "        [-4.70104297e-01,  5.54700196e-01,  1.88960901e-01]]))"
      ]
     },
     "execution_count": 37,
     "metadata": {},
     "output_type": "execute_result"
    }
   ],
   "source": [
    "# Determination des valeurs et vecteurs propres d'une matrice\n",
    "np.linalg.eig(A)"
   ]
  },
  {
   "cell_type": "markdown",
   "id": "4cd67507",
   "metadata": {},
   "source": [
    "# Exercie\n",
    "Standardizer la matrice A sur chaque colonne (chaque colonne doit avoir moyenne =0 et ecart type =1)"
   ]
  },
  {
   "cell_type": "code",
   "execution_count": 38,
   "id": "d485c78f",
   "metadata": {},
   "outputs": [
    {
     "data": {
      "text/plain": [
       "array([[44, 47, 64, 67, 67],\n",
       "       [ 9, 83, 21, 36, 87],\n",
       "       [70, 88, 88, 12, 58],\n",
       "       [65, 39, 87, 46, 88],\n",
       "       [81, 37, 25, 77, 72],\n",
       "       [ 9, 20, 80, 69, 79],\n",
       "       [47, 64, 82, 99, 88],\n",
       "       [49, 29, 19, 19, 14],\n",
       "       [39, 32, 65,  9, 57],\n",
       "       [32, 31, 74, 23, 35]])"
      ]
     },
     "execution_count": 38,
     "metadata": {},
     "output_type": "execute_result"
    }
   ],
   "source": [
    "np.random.seed(0)\n",
    "A = np.random.randint(0, 100, [10,5])\n",
    "A"
   ]
  },
  {
   "cell_type": "code",
   "execution_count": 40,
   "id": "cdce1d37",
   "metadata": {},
   "outputs": [
    {
     "data": {
      "text/plain": [
       "array([44.5, 47. , 60.5, 45.7, 64.5])"
      ]
     },
     "execution_count": 40,
     "metadata": {},
     "output_type": "execute_result"
    }
   ],
   "source": [
    "means = A.mean(axis=0)\n",
    "means"
   ]
  },
  {
   "cell_type": "code",
   "execution_count": 41,
   "id": "042da1bd",
   "metadata": {},
   "outputs": [
    {
     "data": {
      "text/plain": [
       "array([[-0.02206157,  0.        ,  0.13173823,  0.72539252,  0.10755798],\n",
       "       [-1.56637126,  1.61579632, -1.48676006, -0.33034307,  0.96802178],\n",
       "       [ 1.12513992,  1.84021247,  1.03508612, -1.14768676, -0.27965074],\n",
       "       [ 0.90452425, -0.35906585,  0.99744662,  0.0102168 ,  1.01104497],\n",
       "       [ 1.6104944 , -0.44883231, -1.33620208,  1.0659524 ,  0.32267393],\n",
       "       [-1.56637126, -1.21184724,  0.73397016,  0.7935045 ,  0.62383626],\n",
       "       [ 0.11030784,  0.76301493,  0.80924915,  1.81518411,  1.01104497],\n",
       "       [ 0.1985541 , -0.80789816, -1.56203905, -0.90929485, -2.17267111],\n",
       "       [-0.24267724, -0.67324847,  0.16937773, -1.24985473, -0.32267393],\n",
       "       [-0.55153918, -0.7181317 ,  0.50813319, -0.77307091, -1.26918412]])"
      ]
     },
     "execution_count": 41,
     "metadata": {},
     "output_type": "execute_result"
    }
   ],
   "source": [
    "A = (A - A.mean(axis=0))/A.std(axis=0)\n",
    "A"
   ]
  },
  {
   "cell_type": "code",
   "execution_count": null,
   "id": "2554b4b0",
   "metadata": {},
   "outputs": [],
   "source": []
  }
 ],
 "metadata": {
  "kernelspec": {
   "display_name": "Python 3",
   "language": "python",
   "name": "python3"
  },
  "language_info": {
   "codemirror_mode": {
    "name": "ipython",
    "version": 3
   },
   "file_extension": ".py",
   "mimetype": "text/x-python",
   "name": "python",
   "nbconvert_exporter": "python",
   "pygments_lexer": "ipython3",
   "version": "3.8.8"
  }
 },
 "nbformat": 4,
 "nbformat_minor": 5
}
