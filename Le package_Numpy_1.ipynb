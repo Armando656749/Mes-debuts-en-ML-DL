{
 "cells": [
  {
   "cell_type": "code",
   "execution_count": 4,
   "id": "7b74655a",
   "metadata": {},
   "outputs": [],
   "source": [
    " import numpy as np"
   ]
  },
  {
   "cell_type": "markdown",
   "id": "057998ba",
   "metadata": {},
   "source": [
    "# Les constructeurs les plus important de Numpy pour le ML"
   ]
  },
  {
   "cell_type": "code",
   "execution_count": 5,
   "id": "18139db9",
   "metadata": {},
   "outputs": [
    {
     "name": "stdout",
     "output_type": "stream",
     "text": [
      "(3,)\n"
     ]
    }
   ],
   "source": [
    "A = np.array([1,2,3])\n",
    "print(A.shape)"
   ]
  },
  {
   "cell_type": "code",
   "execution_count": 6,
   "id": "60a0ea01",
   "metadata": {},
   "outputs": [
    {
     "name": "stdout",
     "output_type": "stream",
     "text": [
      "(3, 2)\n"
     ]
    },
    {
     "data": {
      "text/plain": [
       "tuple"
      ]
     },
     "execution_count": 6,
     "metadata": {},
     "output_type": "execute_result"
    }
   ],
   "source": [
    "B = np.zeros((3,2))\n",
    "print(B.shape)\n",
    "type(B.shape)"
   ]
  },
  {
   "cell_type": "code",
   "execution_count": 7,
   "id": "b4c83784",
   "metadata": {},
   "outputs": [
    {
     "data": {
      "text/plain": [
       "array([[1., 1., 1., 1.],\n",
       "       [1., 1., 1., 1.],\n",
       "       [1., 1., 1., 1.]])"
      ]
     },
     "execution_count": 7,
     "metadata": {},
     "output_type": "execute_result"
    }
   ],
   "source": [
    "C = np.ones((3,4))\n",
    "C"
   ]
  },
  {
   "cell_type": "code",
   "execution_count": 8,
   "id": "a3167e37",
   "metadata": {},
   "outputs": [
    {
     "data": {
      "text/plain": [
       "array([[9, 9, 9],\n",
       "       [9, 9, 9]])"
      ]
     },
     "execution_count": 8,
     "metadata": {},
     "output_type": "execute_result"
    }
   ],
   "source": [
    "D = np.full((2,3),9)\n",
    "D"
   ]
  },
  {
   "cell_type": "code",
   "execution_count": 11,
   "id": "40e9b293",
   "metadata": {},
   "outputs": [
    {
     "data": {
      "text/plain": [
       "array([[-0.27334078, -1.32109087,  1.21683325,  0.4594996 ],\n",
       "       [-0.18356905, -0.17295541, -1.34069947, -0.20304837],\n",
       "       [ 2.00009929, -0.15593406, -0.03718683, -0.10056077]])"
      ]
     },
     "execution_count": 11,
     "metadata": {},
     "output_type": "execute_result"
    }
   ],
   "source": [
    "E = np.random.randn(3,4)\n",
    "E # on a une serie de nombre dans le tableau issu de la ditribution normale centree reduite"
   ]
  },
  {
   "cell_type": "code",
   "execution_count": 12,
   "id": "4a65fb37",
   "metadata": {},
   "outputs": [
    {
     "data": {
      "text/plain": [
       "array([[1., 0., 0., 0.],\n",
       "       [0., 1., 0., 0.],\n",
       "       [0., 0., 1., 0.],\n",
       "       [0., 0., 0., 1.]])"
      ]
     },
     "execution_count": 12,
     "metadata": {},
     "output_type": "execute_result"
    }
   ],
   "source": [
    "F = np.eye(4)\n",
    "F"
   ]
  },
  {
   "cell_type": "code",
   "execution_count": 13,
   "id": "068ded77",
   "metadata": {},
   "outputs": [
    {
     "data": {
      "text/plain": [
       "array([ 0.        ,  0.52631579,  1.05263158,  1.57894737,  2.10526316,\n",
       "        2.63157895,  3.15789474,  3.68421053,  4.21052632,  4.73684211,\n",
       "        5.26315789,  5.78947368,  6.31578947,  6.84210526,  7.36842105,\n",
       "        7.89473684,  8.42105263,  8.94736842,  9.47368421, 10.        ])"
      ]
     },
     "execution_count": 13,
     "metadata": {},
     "output_type": "execute_result"
    }
   ],
   "source": [
    "G = np.linspace(0,10,20)\n",
    "G"
   ]
  },
  {
   "cell_type": "code",
   "execution_count": 14,
   "id": "40d7d543",
   "metadata": {},
   "outputs": [
    {
     "data": {
      "text/plain": [
       "array([0. , 0.5, 1. , 1.5, 2. , 2.5, 3. , 3.5, 4. , 4.5, 5. , 5.5, 6. ,\n",
       "       6.5, 7. , 7.5, 8. , 8.5, 9. , 9.5])"
      ]
     },
     "execution_count": 14,
     "metadata": {},
     "output_type": "execute_result"
    }
   ],
   "source": [
    "H = np.arange(0,10,0.5)\n",
    "H"
   ]
  },
  {
   "cell_type": "markdown",
   "id": "945914c2",
   "metadata": {},
   "source": [
    "# Manipulation des tableaux"
   ]
  },
  {
   "cell_type": "code",
   "execution_count": 15,
   "id": "f6aea5e3",
   "metadata": {},
   "outputs": [],
   "source": [
    "A = np.ones((3,2))\n",
    "B = np.zeros((3,2))"
   ]
  },
  {
   "cell_type": "code",
   "execution_count": 19,
   "id": "79f1d18b",
   "metadata": {},
   "outputs": [
    {
     "name": "stdout",
     "output_type": "stream",
     "text": [
      "[[1. 1. 0. 0.]\n",
      " [1. 1. 0. 0.]\n",
      " [1. 1. 0. 0.]]\n",
      "\n",
      "[[1. 1.]\n",
      " [1. 1.]\n",
      " [1. 1.]\n",
      " [0. 0.]\n",
      " [0. 0.]\n",
      " [0. 0.]]\n"
     ]
    }
   ],
   "source": [
    "# Concatenation horizontale\n",
    "CH1 = np.hstack((A,B))\n",
    "CH2 = np.concatenate((A,B),axis=0)\n",
    "print(CH1)\n",
    "print('')\n",
    "print(CH2)"
   ]
  },
  {
   "cell_type": "code",
   "execution_count": 21,
   "id": "458d38e2",
   "metadata": {},
   "outputs": [
    {
     "name": "stdout",
     "output_type": "stream",
     "text": [
      "(3, 4)\n",
      "(6, 2)\n"
     ]
    }
   ],
   "source": [
    "print(CH1.shape)\n",
    "print(CH2.shape)"
   ]
  },
  {
   "cell_type": "code",
   "execution_count": 26,
   "id": "c531fffb",
   "metadata": {},
   "outputs": [
    {
     "data": {
      "text/plain": [
       "array([1., 1., 0., 0., 1., 1., 0., 0., 1., 1., 0., 0.])"
      ]
     },
     "execution_count": 26,
     "metadata": {},
     "output_type": "execute_result"
    }
   ],
   "source": [
    "CH1.ravel()"
   ]
  },
  {
   "cell_type": "code",
   "execution_count": 27,
   "id": "17fbc9f9",
   "metadata": {},
   "outputs": [
    {
     "data": {
      "text/plain": [
       "(12,)"
      ]
     },
     "execution_count": 27,
     "metadata": {},
     "output_type": "execute_result"
    }
   ],
   "source": [
    "(CH1.ravel()).shape"
   ]
  },
  {
   "cell_type": "code",
   "execution_count": 31,
   "id": "92f45e0c",
   "metadata": {},
   "outputs": [
    {
     "name": "stdout",
     "output_type": "stream",
     "text": [
      "Nouvelle dimension de Z: (12, 1)\n"
     ]
    },
    {
     "data": {
      "text/plain": [
       "array([[1.],\n",
       "       [1.],\n",
       "       [0.],\n",
       "       [0.],\n",
       "       [1.],\n",
       "       [1.],\n",
       "       [0.],\n",
       "       [0.],\n",
       "       [1.],\n",
       "       [1.],\n",
       "       [0.],\n",
       "       [0.]])"
      ]
     },
     "execution_count": 31,
     "metadata": {},
     "output_type": "execute_result"
    }
   ],
   "source": [
    "Z = (CH1.ravel()).reshape((CH1.ravel().shape[0],1))\n",
    "print(\"Nouvelle dimension de Z:\", Z.shape)\n",
    "Z"
   ]
  },
  {
   "cell_type": "markdown",
   "id": "e5ba8b81",
   "metadata": {},
   "source": [
    "# Exercie"
   ]
  },
  {
   "cell_type": "code",
   "execution_count": 34,
   "id": "102b6bae",
   "metadata": {},
   "outputs": [],
   "source": [
    "def initialisation(m,n):\n",
    "    # m: nombre de lignes\n",
    "    # n: nombre de colonnes\n",
    "    # retourne une matrice aleatoire (m, n+1)\n",
    "    # avec une colonne biais (remplie de \"1\") tout a droite\n",
    "    X = np.random.randn(m,n)\n",
    "    b = np.ones((X.shape[0],1))\n",
    "    X = np.concatenate((X,b), axis=1)\n",
    "    return X"
   ]
  },
  {
   "cell_type": "code",
   "execution_count": 35,
   "id": "214ad10b",
   "metadata": {},
   "outputs": [
    {
     "data": {
      "text/plain": [
       "array([[-0.72442331, -0.38169464, -1.47146648,  1.        ],\n",
       "       [-0.26500179, -1.03170545,  0.29268809,  1.        ],\n",
       "       [ 1.02640418, -1.24954806, -0.50271888,  1.        ]])"
      ]
     },
     "execution_count": 35,
     "metadata": {},
     "output_type": "execute_result"
    }
   ],
   "source": [
    "initialisation(3,3)"
   ]
  },
  {
   "cell_type": "code",
   "execution_count": null,
   "id": "6621534a",
   "metadata": {},
   "outputs": [],
   "source": []
  }
 ],
 "metadata": {
  "kernelspec": {
   "display_name": "Python 3",
   "language": "python",
   "name": "python3"
  },
  "language_info": {
   "codemirror_mode": {
    "name": "ipython",
    "version": 3
   },
   "file_extension": ".py",
   "mimetype": "text/x-python",
   "name": "python",
   "nbconvert_exporter": "python",
   "pygments_lexer": "ipython3",
   "version": "3.8.8"
  }
 },
 "nbformat": 4,
 "nbformat_minor": 5
}
